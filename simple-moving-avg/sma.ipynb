{
  "nbformat": 4,
  "nbformat_minor": 0,
  "metadata": {
    "colab": {
      "name": "sma.ipynb",
      "provenance": [],
      "collapsed_sections": [],
      "authorship_tag": "ABX9TyOao4VKKqeB8hk+j8WPbh/L",
      "include_colab_link": true
    },
    "kernelspec": {
      "name": "python3",
      "display_name": "Python 3"
    }
  },
  "cells": [
    {
      "cell_type": "markdown",
      "metadata": {
        "id": "view-in-github",
        "colab_type": "text"
      },
      "source": [
        "<a href=\"https://colab.research.google.com/github/nicodes/quant-algos/blob/main/simple-moving-avg/sma.ipynb\" target=\"_parent\"><img src=\"https://colab.research.google.com/assets/colab-badge.svg\" alt=\"Open In Colab\"/></a>"
      ]
    },
    {
      "cell_type": "code",
      "metadata": {
        "colab": {
          "base_uri": "https://localhost:8080/"
        },
        "id": "KGIV-lEzdsyP",
        "outputId": "36023748-1c68-4c5d-f83e-d59902268c0e"
      },
      "source": [
        "!wget -nc https://lazyprogrammer.me/course_files/SPY.csv\n",
        "import pandas as pd\n",
        "import numpy as np\n",
        "import matplotlib.pyplot as plt"
      ],
      "execution_count": 36,
      "outputs": [
        {
          "output_type": "stream",
          "text": [
            "File ‘SPY.csv’ already there; not retrieving.\n",
            "\n"
          ],
          "name": "stdout"
        }
      ]
    },
    {
      "cell_type": "code",
      "metadata": {
        "colab": {
          "base_uri": "https://localhost:8080/",
          "height": 235
        },
        "id": "s93dKK6SsUjr",
        "outputId": "98c7b750-1cc1-4399-8835-718f2a3531ac"
      },
      "source": [
        "df = pd.read_csv('SPY.csv', index_col='Date', parse_dates=True)\n",
        "df.head()"
      ],
      "execution_count": 37,
      "outputs": [
        {
          "output_type": "execute_result",
          "data": {
            "text/html": [
              "<div>\n",
              "<style scoped>\n",
              "    .dataframe tbody tr th:only-of-type {\n",
              "        vertical-align: middle;\n",
              "    }\n",
              "\n",
              "    .dataframe tbody tr th {\n",
              "        vertical-align: top;\n",
              "    }\n",
              "\n",
              "    .dataframe thead th {\n",
              "        text-align: right;\n",
              "    }\n",
              "</style>\n",
              "<table border=\"1\" class=\"dataframe\">\n",
              "  <thead>\n",
              "    <tr style=\"text-align: right;\">\n",
              "      <th></th>\n",
              "      <th>Open</th>\n",
              "      <th>High</th>\n",
              "      <th>Low</th>\n",
              "      <th>Close</th>\n",
              "      <th>Adj Close</th>\n",
              "      <th>Volume</th>\n",
              "    </tr>\n",
              "    <tr>\n",
              "      <th>Date</th>\n",
              "      <th></th>\n",
              "      <th></th>\n",
              "      <th></th>\n",
              "      <th></th>\n",
              "      <th></th>\n",
              "      <th></th>\n",
              "    </tr>\n",
              "  </thead>\n",
              "  <tbody>\n",
              "    <tr>\n",
              "      <th>2010-01-04</th>\n",
              "      <td>112.370003</td>\n",
              "      <td>113.389999</td>\n",
              "      <td>111.510002</td>\n",
              "      <td>113.330002</td>\n",
              "      <td>92.246048</td>\n",
              "      <td>118944600</td>\n",
              "    </tr>\n",
              "    <tr>\n",
              "      <th>2010-01-05</th>\n",
              "      <td>113.260002</td>\n",
              "      <td>113.680000</td>\n",
              "      <td>112.849998</td>\n",
              "      <td>113.629997</td>\n",
              "      <td>92.490204</td>\n",
              "      <td>111579900</td>\n",
              "    </tr>\n",
              "    <tr>\n",
              "      <th>2010-01-06</th>\n",
              "      <td>113.519997</td>\n",
              "      <td>113.989998</td>\n",
              "      <td>113.430000</td>\n",
              "      <td>113.709999</td>\n",
              "      <td>92.555328</td>\n",
              "      <td>116074400</td>\n",
              "    </tr>\n",
              "    <tr>\n",
              "      <th>2010-01-07</th>\n",
              "      <td>113.500000</td>\n",
              "      <td>114.330002</td>\n",
              "      <td>113.180000</td>\n",
              "      <td>114.190002</td>\n",
              "      <td>92.946060</td>\n",
              "      <td>131091100</td>\n",
              "    </tr>\n",
              "    <tr>\n",
              "      <th>2010-01-08</th>\n",
              "      <td>113.889999</td>\n",
              "      <td>114.620003</td>\n",
              "      <td>113.660004</td>\n",
              "      <td>114.570000</td>\n",
              "      <td>93.255348</td>\n",
              "      <td>126402800</td>\n",
              "    </tr>\n",
              "  </tbody>\n",
              "</table>\n",
              "</div>"
            ],
            "text/plain": [
              "                  Open        High  ...  Adj Close     Volume\n",
              "Date                                ...                      \n",
              "2010-01-04  112.370003  113.389999  ...  92.246048  118944600\n",
              "2010-01-05  113.260002  113.680000  ...  92.490204  111579900\n",
              "2010-01-06  113.519997  113.989998  ...  92.555328  116074400\n",
              "2010-01-07  113.500000  114.330002  ...  92.946060  131091100\n",
              "2010-01-08  113.889999  114.620003  ...  93.255348  126402800\n",
              "\n",
              "[5 rows x 6 columns]"
            ]
          },
          "metadata": {
            "tags": []
          },
          "execution_count": 37
        }
      ]
    },
    {
      "cell_type": "code",
      "metadata": {
        "colab": {
          "base_uri": "https://localhost:8080/",
          "height": 357
        },
        "id": "HNsDo_9Rh-D7",
        "outputId": "5c9b3594-4319-4d1a-afec-c47a485c6d9c"
      },
      "source": [
        "# calc log return and shift by -1\n",
        "df['LogReturn'] = np.log(df['Close']).diff()\n",
        "df['LogReturn'] = df['LogReturn'].shift(-1)\n",
        "\n",
        "# calc SMAs\n",
        "df['SlowSMA'] = df['Close'].rolling(30).mean()\n",
        "df['FastSMA'] = df['Close'].rolling(10).mean()\n",
        "\n",
        "df['Signal'] = np.where(df['SlowSMA'] <= df['FastSMA'], 1, 0)\n",
        "df['PrevSignal'] = df['Signal'].shift(1)\n",
        "\n",
        "df['Buy'] = (df['PrevSignal'] == 0) & (df['Signal'] == 1)\n",
        "df['Sell'] = (df['PrevSignal'] == 1) & (df['Signal'] == 0)\n",
        "\n",
        "df.iloc[80:].head()"
      ],
      "execution_count": 38,
      "outputs": [
        {
          "output_type": "execute_result",
          "data": {
            "text/html": [
              "<div>\n",
              "<style scoped>\n",
              "    .dataframe tbody tr th:only-of-type {\n",
              "        vertical-align: middle;\n",
              "    }\n",
              "\n",
              "    .dataframe tbody tr th {\n",
              "        vertical-align: top;\n",
              "    }\n",
              "\n",
              "    .dataframe thead th {\n",
              "        text-align: right;\n",
              "    }\n",
              "</style>\n",
              "<table border=\"1\" class=\"dataframe\">\n",
              "  <thead>\n",
              "    <tr style=\"text-align: right;\">\n",
              "      <th></th>\n",
              "      <th>Open</th>\n",
              "      <th>High</th>\n",
              "      <th>Low</th>\n",
              "      <th>Close</th>\n",
              "      <th>Adj Close</th>\n",
              "      <th>Volume</th>\n",
              "      <th>LogReturn</th>\n",
              "      <th>SlowSMA</th>\n",
              "      <th>FastSMA</th>\n",
              "      <th>Signal</th>\n",
              "      <th>PrevSignal</th>\n",
              "      <th>Buy</th>\n",
              "      <th>Sell</th>\n",
              "    </tr>\n",
              "    <tr>\n",
              "      <th>Date</th>\n",
              "      <th></th>\n",
              "      <th></th>\n",
              "      <th></th>\n",
              "      <th></th>\n",
              "      <th></th>\n",
              "      <th></th>\n",
              "      <th></th>\n",
              "      <th></th>\n",
              "      <th></th>\n",
              "      <th></th>\n",
              "      <th></th>\n",
              "      <th></th>\n",
              "      <th></th>\n",
              "    </tr>\n",
              "  </thead>\n",
              "  <tbody>\n",
              "    <tr>\n",
              "      <th>2010-04-29</th>\n",
              "      <td>120.099998</td>\n",
              "      <td>121.110001</td>\n",
              "      <td>120.070000</td>\n",
              "      <td>120.860001</td>\n",
              "      <td>98.780228</td>\n",
              "      <td>193775000</td>\n",
              "      <td>-0.017107</td>\n",
              "      <td>118.891334</td>\n",
              "      <td>120.360999</td>\n",
              "      <td>1</td>\n",
              "      <td>1.0</td>\n",
              "      <td>False</td>\n",
              "      <td>False</td>\n",
              "    </tr>\n",
              "    <tr>\n",
              "      <th>2010-04-30</th>\n",
              "      <td>120.879997</td>\n",
              "      <td>121.010002</td>\n",
              "      <td>118.779999</td>\n",
              "      <td>118.809998</td>\n",
              "      <td>97.104759</td>\n",
              "      <td>270000900</td>\n",
              "      <td>0.012879</td>\n",
              "      <td>118.950333</td>\n",
              "      <td>120.305999</td>\n",
              "      <td>1</td>\n",
              "      <td>1.0</td>\n",
              "      <td>False</td>\n",
              "      <td>False</td>\n",
              "    </tr>\n",
              "    <tr>\n",
              "      <th>2010-05-03</th>\n",
              "      <td>119.379997</td>\n",
              "      <td>120.680000</td>\n",
              "      <td>119.199997</td>\n",
              "      <td>120.349998</td>\n",
              "      <td>98.363426</td>\n",
              "      <td>182747900</td>\n",
              "      <td>-0.023796</td>\n",
              "      <td>119.096333</td>\n",
              "      <td>120.359999</td>\n",
              "      <td>1</td>\n",
              "      <td>1.0</td>\n",
              "      <td>False</td>\n",
              "      <td>False</td>\n",
              "    </tr>\n",
              "    <tr>\n",
              "      <th>2010-05-04</th>\n",
              "      <td>119.010002</td>\n",
              "      <td>119.029999</td>\n",
              "      <td>116.919998</td>\n",
              "      <td>117.519997</td>\n",
              "      <td>96.050430</td>\n",
              "      <td>360353400</td>\n",
              "      <td>-0.005974</td>\n",
              "      <td>119.127333</td>\n",
              "      <td>120.023999</td>\n",
              "      <td>1</td>\n",
              "      <td>1.0</td>\n",
              "      <td>False</td>\n",
              "      <td>False</td>\n",
              "    </tr>\n",
              "    <tr>\n",
              "      <th>2010-05-05</th>\n",
              "      <td>116.559998</td>\n",
              "      <td>117.800003</td>\n",
              "      <td>115.970001</td>\n",
              "      <td>116.820000</td>\n",
              "      <td>95.478325</td>\n",
              "      <td>328973200</td>\n",
              "      <td>-0.033778</td>\n",
              "      <td>119.107667</td>\n",
              "      <td>119.639999</td>\n",
              "      <td>1</td>\n",
              "      <td>1.0</td>\n",
              "      <td>False</td>\n",
              "      <td>False</td>\n",
              "    </tr>\n",
              "  </tbody>\n",
              "</table>\n",
              "</div>"
            ],
            "text/plain": [
              "                  Open        High         Low  ...  PrevSignal    Buy   Sell\n",
              "Date                                            ...                          \n",
              "2010-04-29  120.099998  121.110001  120.070000  ...         1.0  False  False\n",
              "2010-04-30  120.879997  121.010002  118.779999  ...         1.0  False  False\n",
              "2010-05-03  119.379997  120.680000  119.199997  ...         1.0  False  False\n",
              "2010-05-04  119.010002  119.029999  116.919998  ...         1.0  False  False\n",
              "2010-05-05  116.559998  117.800003  115.970001  ...         1.0  False  False\n",
              "\n",
              "[5 rows x 13 columns]"
            ]
          },
          "metadata": {
            "tags": []
          },
          "execution_count": 38
        }
      ]
    },
    {
      "cell_type": "code",
      "metadata": {
        "colab": {
          "base_uri": "https://localhost:8080/",
          "height": 294
        },
        "id": "yrKwqH7bjokk",
        "outputId": "c20c91bf-7a93-4f6c-d491-228e5f749d35"
      },
      "source": [
        "# plot first 300 points\n",
        "df.iloc[:300][['Close', 'FastSMA', 'SlowSMA']].plot()"
      ],
      "execution_count": 39,
      "outputs": [
        {
          "output_type": "execute_result",
          "data": {
            "text/plain": [
              "<matplotlib.axes._subplots.AxesSubplot at 0x7f33eea42b38>"
            ]
          },
          "metadata": {
            "tags": []
          },
          "execution_count": 39
        },
        {
          "output_type": "display_data",
          "data": {
            "image/png": "[encoded data removed]",
            "text/plain": [
              "<Figure size 432x288 with 1 Axes>"
            ]
          },
          "metadata": {
            "tags": [],
            "needs_background": "light"
          }
        }
      ]
    },
    {
      "cell_type": "code",
      "metadata": {
        "colab": {
          "base_uri": "https://localhost:8080/",
          "height": 357
        },
        "id": "We5HRaTAtFRQ",
        "outputId": "c8031ee2-1f1f-4711-8fcc-a620f6e17153"
      },
      "source": [
        "# add IsInvested col\n",
        "\n",
        "is_invested = False\n",
        "def assign_is_invested(row):\n",
        "  global is_invested\n",
        "  if is_invested and row['Sell']:\n",
        "    is_invested = False\n",
        "  if not is_invested and row['Buy']:\n",
        "    is_invested = True\n",
        "  \n",
        "  # otherwise, just remain\n",
        "  return is_invested\n",
        "\n",
        "df['IsInvested'] = df.apply(assign_is_invested, axis=1)\n",
        "df.iloc[80:].head()"
      ],
      "execution_count": 40,
      "outputs": [
        {
          "output_type": "execute_result",
          "data": {
            "text/html": [
              "<div>\n",
              "<style scoped>\n",
              "    .dataframe tbody tr th:only-of-type {\n",
              "        vertical-align: middle;\n",
              "    }\n",
              "\n",
              "    .dataframe tbody tr th {\n",
              "        vertical-align: top;\n",
              "    }\n",
              "\n",
              "    .dataframe thead th {\n",
              "        text-align: right;\n",
              "    }\n",
              "</style>\n",
              "<table border=\"1\" class=\"dataframe\">\n",
              "  <thead>\n",
              "    <tr style=\"text-align: right;\">\n",
              "      <th></th>\n",
              "      <th>Open</th>\n",
              "      <th>High</th>\n",
              "      <th>Low</th>\n",
              "      <th>Close</th>\n",
              "      <th>Adj Close</th>\n",
              "      <th>Volume</th>\n",
              "      <th>LogReturn</th>\n",
              "      <th>SlowSMA</th>\n",
              "      <th>FastSMA</th>\n",
              "      <th>Signal</th>\n",
              "      <th>PrevSignal</th>\n",
              "      <th>Buy</th>\n",
              "      <th>Sell</th>\n",
              "      <th>IsInvested</th>\n",
              "    </tr>\n",
              "    <tr>\n",
              "      <th>Date</th>\n",
              "      <th></th>\n",
              "      <th></th>\n",
              "      <th></th>\n",
              "      <th></th>\n",
              "      <th></th>\n",
              "      <th></th>\n",
              "      <th></th>\n",
              "      <th></th>\n",
              "      <th></th>\n",
              "      <th></th>\n",
              "      <th></th>\n",
              "      <th></th>\n",
              "      <th></th>\n",
              "      <th></th>\n",
              "    </tr>\n",
              "  </thead>\n",
              "  <tbody>\n",
              "    <tr>\n",
              "      <th>2010-04-29</th>\n",
              "      <td>120.099998</td>\n",
              "      <td>121.110001</td>\n",
              "      <td>120.070000</td>\n",
              "      <td>120.860001</td>\n",
              "      <td>98.780228</td>\n",
              "      <td>193775000</td>\n",
              "      <td>-0.017107</td>\n",
              "      <td>118.891334</td>\n",
              "      <td>120.360999</td>\n",
              "      <td>1</td>\n",
              "      <td>1.0</td>\n",
              "      <td>False</td>\n",
              "      <td>False</td>\n",
              "      <td>True</td>\n",
              "    </tr>\n",
              "    <tr>\n",
              "      <th>2010-04-30</th>\n",
              "      <td>120.879997</td>\n",
              "      <td>121.010002</td>\n",
              "      <td>118.779999</td>\n",
              "      <td>118.809998</td>\n",
              "      <td>97.104759</td>\n",
              "      <td>270000900</td>\n",
              "      <td>0.012879</td>\n",
              "      <td>118.950333</td>\n",
              "      <td>120.305999</td>\n",
              "      <td>1</td>\n",
              "      <td>1.0</td>\n",
              "      <td>False</td>\n",
              "      <td>False</td>\n",
              "      <td>True</td>\n",
              "    </tr>\n",
              "    <tr>\n",
              "      <th>2010-05-03</th>\n",
              "      <td>119.379997</td>\n",
              "      <td>120.680000</td>\n",
              "      <td>119.199997</td>\n",
              "      <td>120.349998</td>\n",
              "      <td>98.363426</td>\n",
              "      <td>182747900</td>\n",
              "      <td>-0.023796</td>\n",
              "      <td>119.096333</td>\n",
              "      <td>120.359999</td>\n",
              "      <td>1</td>\n",
              "      <td>1.0</td>\n",
              "      <td>False</td>\n",
              "      <td>False</td>\n",
              "      <td>True</td>\n",
              "    </tr>\n",
              "    <tr>\n",
              "      <th>2010-05-04</th>\n",
              "      <td>119.010002</td>\n",
              "      <td>119.029999</td>\n",
              "      <td>116.919998</td>\n",
              "      <td>117.519997</td>\n",
              "      <td>96.050430</td>\n",
              "      <td>360353400</td>\n",
              "      <td>-0.005974</td>\n",
              "      <td>119.127333</td>\n",
              "      <td>120.023999</td>\n",
              "      <td>1</td>\n",
              "      <td>1.0</td>\n",
              "      <td>False</td>\n",
              "      <td>False</td>\n",
              "      <td>True</td>\n",
              "    </tr>\n",
              "    <tr>\n",
              "      <th>2010-05-05</th>\n",
              "      <td>116.559998</td>\n",
              "      <td>117.800003</td>\n",
              "      <td>115.970001</td>\n",
              "      <td>116.820000</td>\n",
              "      <td>95.478325</td>\n",
              "      <td>328973200</td>\n",
              "      <td>-0.033778</td>\n",
              "      <td>119.107667</td>\n",
              "      <td>119.639999</td>\n",
              "      <td>1</td>\n",
              "      <td>1.0</td>\n",
              "      <td>False</td>\n",
              "      <td>False</td>\n",
              "      <td>True</td>\n",
              "    </tr>\n",
              "  </tbody>\n",
              "</table>\n",
              "</div>"
            ],
            "text/plain": [
              "                  Open        High         Low  ...    Buy   Sell  IsInvested\n",
              "Date                                            ...                          \n",
              "2010-04-29  120.099998  121.110001  120.070000  ...  False  False        True\n",
              "2010-04-30  120.879997  121.010002  118.779999  ...  False  False        True\n",
              "2010-05-03  119.379997  120.680000  119.199997  ...  False  False        True\n",
              "2010-05-04  119.010002  119.029999  116.919998  ...  False  False        True\n",
              "2010-05-05  116.559998  117.800003  115.970001  ...  False  False        True\n",
              "\n",
              "[5 rows x 14 columns]"
            ]
          },
          "metadata": {
            "tags": []
          },
          "execution_count": 40
        }
      ]
    },
    {
      "cell_type": "code",
      "metadata": {
        "colab": {
          "base_uri": "https://localhost:8080/"
        },
        "id": "U-Uo_lEZtsY7",
        "outputId": "b3d77cdf-aca9-4b46-8662-6f3340aa89f5"
      },
      "source": [
        "# algo results\n",
        "df['AlgoLogReturn'] = df['IsInvested'] * df['LogReturn']\n",
        "print('--- algo results ---')\n",
        "print('return: ' + str(df[\"AlgoLogReturn\"].sum()))\n",
        "print('std dev: ' + str(df['AlgoLogReturn'].std()))\n",
        "print('sharpe: ' + str(df['AlgoLogReturn'].mean() / df['AlgoLogReturn'].std()))"
      ],
      "execution_count": 55,
      "outputs": [
        {
          "output_type": "stream",
          "text": [
            "return: 0.5234843769065618\n",
            "std dev: 0.006352163765675765\n",
            "sharpe: 0.036432538977064756\n"
          ],
          "name": "stdout"
        }
      ]
    },
    {
      "cell_type": "code",
      "metadata": {
        "colab": {
          "base_uri": "https://localhost:8080/"
        },
        "id": "vWhqOYTbsHWZ",
        "outputId": "659b48c9-bdb3-4bfa-d662-7dceacc2c7b8"
      },
      "source": [
        "# buy and hold results\n",
        "print('--- buy and hold results ---')\n",
        "print('return: ' + str(df[\"LogReturn\"].sum()))\n",
        "print('std dev: ' + str(df['LogReturn'].std()))\n",
        "print('sharpe: ' + str(df['LogReturn'].mean() / df['LogReturn'].std()))"
      ],
      "execution_count": 56,
      "outputs": [
        {
          "output_type": "stream",
          "text": [
            "return: 0.7821162403084001\n",
            "std dev: 0.009446971193167578\n",
            "sharpe: 0.03660042364089666\n"
          ],
          "name": "stdout"
        }
      ]
    }
  ]
}